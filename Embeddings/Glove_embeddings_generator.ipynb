{
 "cells": [
  {
   "cell_type": "code",
   "execution_count": 1,
   "metadata": {},
   "outputs": [],
   "source": [
    "import numpy as np\n",
    "import pandas as pd\n",
    "import matplotlib.pyplot as plt\n",
    "import torch\n",
    "from torch.autograd import Variable\n",
    "from sklearn.model_selection import KFold\n",
    "from sklearn.model_selection import StratifiedKFold\n",
    "import random\n",
    "import csv\n",
    "import json \n",
    "from tqdm import tqdm"
   ]
  },
  {
   "cell_type": "code",
   "execution_count": 3,
   "metadata": {},
   "outputs": [],
   "source": [
    "# Loading Embeddings\n",
    "embeddings_dict1 = {}\n",
    "with open(\"glove.6B.200d.txt\", 'r',  encoding=\"utf8\") as f:\n",
    "    for line in f:\n",
    "        values = line.split()\n",
    "        word = values[0]\n",
    "        vector = np.asarray(values[1:], \"float32\")\n",
    "        embeddings_dict1[word] = vector"
   ]
  },
  {
   "cell_type": "code",
   "execution_count": 4,
   "metadata": {},
   "outputs": [],
   "source": [
    "Embed = {}"
   ]
  },
  {
   "cell_type": "code",
   "execution_count": 5,
   "metadata": {},
   "outputs": [
    {
     "name": "stderr",
     "output_type": "stream",
     "text": [
      "100%|███████████████████████████████████████████████████████████████████████████| 7662/7662 [00:00<00:00, 10685.01it/s]\n"
     ]
    }
   ],
   "source": [
    "df = pd.read_csv(\"../Group 1 Dataset/Dataset 1/lcp_single_train.tsv\",\n",
    "                              delimiter=\"\\t\", quoting=csv.QUOTE_NONE, encoding='utf-8')\n",
    "tokens = df['token']\n",
    "\n",
    "for i in tqdm(range(len(df))):\n",
    "# for i in range(1):   \n",
    "    if str(tokens[i]).lower() in embeddings_dict1.keys():\n",
    "        embedding = embeddings_dict1[str(tokens[i]).lower()]\n",
    "    else:\n",
    "        embedding = np.zeros(200)\n",
    "    Embed[df['id'][i]] = embedding.tolist()"
   ]
  },
  {
   "cell_type": "code",
   "execution_count": 6,
   "metadata": {},
   "outputs": [
    {
     "name": "stderr",
     "output_type": "stream",
     "text": [
      "100%|██████████████████████████████████████████████████████████████████████████████| 421/421 [00:00<00:00, 7035.68it/s]\n"
     ]
    }
   ],
   "source": [
    "df = pd.read_csv(\"../Group 1 Dataset/Dataset 1/lcp_single_trial.tsv\",\n",
    "                              delimiter=\"\\t\", quoting=csv.QUOTE_NONE, encoding='utf-8')\n",
    "tokens = df['token']\n",
    "\n",
    "for i in tqdm(range(len(df))):\n",
    "# for i in range(1):   \n",
    "    if str(tokens[i]).lower() in embeddings_dict1.keys():\n",
    "        embedding = embeddings_dict1[str(tokens[i]).lower()]\n",
    "    else:\n",
    "        embedding = np.zeros(200)\n",
    "    Embed[df['id'][i]] = embedding.tolist()"
   ]
  },
  {
   "cell_type": "code",
   "execution_count": 7,
   "metadata": {},
   "outputs": [
    {
     "name": "stderr",
     "output_type": "stream",
     "text": [
      "100%|████████████████████████████████████████████████████████████████████████████| 1517/1517 [00:00<00:00, 6285.31it/s]\n"
     ]
    }
   ],
   "source": [
    "df = pd.read_csv(\"../Group 1 Dataset/Dataset 2/lcp_multi_train.tsv\",\n",
    "                              delimiter=\"\\t\", quoting=csv.QUOTE_NONE, encoding='utf-8')\n",
    "tokens = df['token']\n",
    "\n",
    "for i in tqdm(range(len(df))):\n",
    "    if str(tokens[i]).split()[0].lower() in embeddings_dict1.keys() and str(tokens[i]).split()[1].lower() in embeddings_dict1.keys():\n",
    "        embedding = (embeddings_dict1[str(tokens[i]).split()[0].lower()]+embeddings_dict1[str(tokens[i]).split()[1].lower()])/2\n",
    "    else:\n",
    "        embedding = np.zeros(200)\n",
    "    Embed[df['id'][i]] = embedding.tolist()"
   ]
  },
  {
   "cell_type": "code",
   "execution_count": 8,
   "metadata": {},
   "outputs": [
    {
     "name": "stderr",
     "output_type": "stream",
     "text": [
      "100%|████████████████████████████████████████████████████████████████████████████████| 99/99 [00:00<00:00, 4725.73it/s]\n"
     ]
    }
   ],
   "source": [
    "df = pd.read_csv(\"../Group 1 Dataset/Dataset 2/lcp_multi_trial.tsv\",\n",
    "                              delimiter=\"\\t\", quoting=csv.QUOTE_NONE, encoding='utf-8')\n",
    "tokens = df['token']\n",
    "\n",
    "for i in tqdm(range(len(df))):\n",
    "    if str(tokens[i]).split()[0].lower() in embeddings_dict1.keys() and str(tokens[i]).split()[1].lower() in embeddings_dict1.keys():\n",
    "        embedding = (embeddings_dict1[str(tokens[i]).split()[0].lower()]+embeddings_dict1[str(tokens[i]).split()[1].lower()])/2\n",
    "    else:\n",
    "        embedding = np.zeros(200)\n",
    "    Embed[df['id'][i]] = embedding.tolist()"
   ]
  },
  {
   "cell_type": "code",
   "execution_count": 9,
   "metadata": {},
   "outputs": [
    {
     "name": "stderr",
     "output_type": "stream",
     "text": [
      "100%|██████████████████████████████████████████████████████████████████████████████| 917/917 [00:00<00:00, 8065.38it/s]"
     ]
    },
    {
     "name": "stdout",
     "output_type": "stream",
     "text": [
      "2\n"
     ]
    },
    {
     "name": "stderr",
     "output_type": "stream",
     "text": [
      "\n"
     ]
    }
   ],
   "source": [
    "df = pd.read_csv(\"../Group 1 Dataset/Test/lcp_single_test.tsv\",\n",
    "                              delimiter=\"\\t\", quoting=csv.QUOTE_NONE, encoding='utf-8')\n",
    "tokens = df['token']\n",
    "\n",
    "count = 0\n",
    "for i in tqdm(range(len(df))):\n",
    "# for i in range(1):   \n",
    "    if str(tokens[i]).lower() in embeddings_dict1.keys():\n",
    "        embedding = embeddings_dict1[str(tokens[i]).lower()]\n",
    "    else:\n",
    "        count+=1\n",
    "        embedding = np.zeros(200)\n",
    "    Embed[df['id'][i]] = embedding.tolist()\n",
    "print(count)"
   ]
  },
  {
   "cell_type": "code",
   "execution_count": 10,
   "metadata": {},
   "outputs": [
    {
     "name": "stderr",
     "output_type": "stream",
     "text": [
      "100%|██████████████████████████████████████████████████████████████████████████████| 184/184 [00:00<00:00, 4986.32it/s]"
     ]
    },
    {
     "name": "stdout",
     "output_type": "stream",
     "text": [
      "0\n"
     ]
    },
    {
     "name": "stderr",
     "output_type": "stream",
     "text": [
      "\n"
     ]
    }
   ],
   "source": [
    "df = pd.read_csv(\"../Group 1 Dataset/Test/lcp_multi_test.tsv\",\n",
    "                              delimiter=\"\\t\", quoting=csv.QUOTE_NONE, encoding='utf-8')\n",
    "tokens = df['token']\n",
    "\n",
    "count=0 \n",
    "\n",
    "for i in tqdm(range(len(df))):\n",
    "    if str(tokens[i]).split()[0].lower() in embeddings_dict1.keys() and str(tokens[i]).split()[1].lower() in embeddings_dict1.keys():\n",
    "        embedding = (embeddings_dict1[str(tokens[i]).split()[0].lower()]+embeddings_dict1[str(tokens[i]).split()[1].lower()])/2\n",
    "    else:\n",
    "        count+=1\n",
    "        embedding = np.zeros(200)\n",
    "    Embed[df['id'][i]] = embedding.tolist()\n",
    "    \n",
    "print(count)"
   ]
  },
  {
   "cell_type": "code",
   "execution_count": 11,
   "metadata": {},
   "outputs": [],
   "source": [
    "with open(\"glove_embeddings.json\", \"w\") as outfile:  \n",
    "    json.dump(Embed, outfile, indent = 4)"
   ]
  },
  {
   "cell_type": "code",
   "execution_count": null,
   "metadata": {},
   "outputs": [],
   "source": []
  }
 ],
 "metadata": {
  "kernelspec": {
   "display_name": "Python 3",
   "language": "python",
   "name": "python3"
  },
  "language_info": {
   "codemirror_mode": {
    "name": "ipython",
    "version": 3
   },
   "file_extension": ".py",
   "mimetype": "text/x-python",
   "name": "python",
   "nbconvert_exporter": "python",
   "pygments_lexer": "ipython3",
   "version": "3.7.1"
  }
 },
 "nbformat": 4,
 "nbformat_minor": 4
}
